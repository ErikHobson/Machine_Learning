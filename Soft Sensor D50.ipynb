{
 "cells": [
  {
   "cell_type": "code",
   "execution_count": 1,
   "id": "94106c9a",
   "metadata": {},
   "outputs": [],
   "source": [
    "### SOFT SENSOR D50 ###\n",
    "'''\n",
    "This module is the solf sensor for D50C on the grinding mill circuit. Functions defined as a function of ore feed are: (feed)\n",
    "\n",
    "cyc_vol\n",
    "rho\n",
    "lumda\n",
    "\n",
    "Function of feed and Pressure: (feed, P)\n",
    "\n",
    "D50_4_CL\n",
    "unit_cyc\n",
    "numcyc\n",
    "\n",
    "Function of feed and Pressure and cyc_vol: (cyc_vol, feed, P)\n",
    "\n",
    "D50_from_vol\n",
    "\n",
    "This function uses measured cyc_volume instead of assuming circulating load of 400.\n",
    "'''\n",
    "\n",
    "feed_0=110.0  #input:feed\n",
    "P_0= 75.8  #input: cyclone pressure\n",
    "\n",
    "sg=2.6\n",
    "#circ_L=4.000 #400% circulating load       #we now have direct measurement of flow rate. take out\n",
    "feed_p=0.605  #60 %S Cyclone feed\n",
    "rho=1.61\n",
    "\n",
    "DC =0.381 #m     Cyclone diameter\n",
    "DI =0.152 #m     Inner diameter\n",
    "DO=0.17145 #m    Vortex finder diameter\n",
    "DU=0.1016 #m     Spigot diameter\n",
    "LC   =0.641 #m   cyclone length\n",
    "theta =15 #deg   cone angle\n",
    "KD0   =6.00e-5  #D50 constant\n",
    "KQ0   =490       #capacity const\n",
    "KV1   =6.6       #volume split constant\n",
    "KW1   =8.4       #water split conts\n",
    "alpha =3.9       #eff curve sharpness\n",
    "beta  =0.0       #init dip in eff\n",
    "\n",
    "\n",
    "# def circ_Load(flowrate ,feed ):\n",
    "    \n",
    "#     return\n",
    "\n",
    "\n",
    "\n",
    "\n",
    "def cyc_vol(feed):\n",
    "    a=feed*(1+circ_L)/feed_p\n",
    "    b=feed*(1+circ_L)\n",
    "    c=feed*(1+circ_L)/sg\n",
    "    cvol=a-b+c\n",
    "    return cvol\n",
    "\n",
    "#\n",
    "\n",
    "def rho(feed):\n",
    "    cvol=cyc_vol(feed)\n",
    "    a=feed*(1+circ_L)/feed_p\n",
    "    b=feed*(1+circ_L)\n",
    "    c=feed*(1+circ_L)/sg\n",
    "    d= a/ (a - b +c)\n",
    "    return d\n",
    "\n",
    "def lumda(feed):\n",
    "    c=feed*(1+circ_L)/sg   #replace  feed*(1+circ_L)   with flow rate\n",
    "    l= 10**((1.82*c)/(cyc_vol(feed))) / (8.05*(1-c/cyc_vol(feed))**2)\n",
    "    return l\n",
    "\n",
    "def D50_4_CL(feed,P,circ_L):\n",
    "    #circ_L=4.000\n",
    "    \n",
    "    f1= DC*KD0* (DC**(-0.65)) *((DO/DC)**0.52) *((DU/DC)**(-0.47)) *((DI/DC)**(-0.5)) \\\n",
    "    *((LC/DC)**0.2) *(theta**0.15) *((P/(rho(feed)*9.8*DC))**(-0.22)) *(lumda(feed)**0.93)\n",
    "    return f1*1000\n",
    "\n",
    "\n",
    "def unit_cap(feed,P):\n",
    "    return KQ0*DC**(-0.1)*(DO/DC)**0.68 *(DI/DC)**0.45 *(LC/DC)**0.2 *theta**-0.1 *DC**2 *(P/rho(feed))**0.5 \n",
    "\n",
    "def numcyc(feed,P):\n",
    "    return cyc_vol/unit_cap(feed,P)\n",
    "\n",
    "\n",
    "\n",
    "def D50_meas_vol(cyc_vol,feed, P_):    #from measured volume\n",
    "    \n",
    "    P=P_*6.0\n",
    "    OF=feed*1.0\n",
    "    sl_dens= 100 / (100*feed_p/sg + (100-feed_p*100))\n",
    "    cyc_feed=cyc_vol *feed_p *sl_dens\n",
    "    UF=cyc_feed-OF\n",
    "    circ_L=UF/OF\n",
    "    \n",
    "    def rho(feed):\n",
    "        cvol=cyc_vol*1.0\n",
    "        a=feed*(1+circ_L)/feed_p\n",
    "        b=feed*(1+circ_L)\n",
    "        c=feed*(1+circ_L)/sg\n",
    "        d= a/ (a - b +c)\n",
    "        return d\n",
    "\n",
    "    def lumda(feed):\n",
    "        c=feed*(1+circ_L)/sg   #replace  feed*(1+circ_L)   with flow rate\n",
    "        l= 10**((1.82*c)/(cyc_vol)) / (8.05*(1-c/cyc_vol)**2)\n",
    "        return l\n",
    "\n",
    "    def D50_4_CL(feed,P):\n",
    "        f1= DC*KD0* (DC**(-0.65)) *((DO/DC)**0.52) *((DU/DC)**(-0.47)) *((DI/DC)**(-0.5)) \\\n",
    "        *((LC/DC)**0.2) *(theta**0.15) *((P/(rho(feed)*9.8*DC))**(-0.22)) *(lumda(feed)**0.93)\n",
    "        return f1*1000\n",
    "    \n",
    "    return  D50_4_CL(feed,P)   #, rho(feed), lumda(feed), sl_dens, circ_L\n",
    "    \n",
    "\n",
    "\n",
    "#WHAT is the time constant? Do feed changes affect D50 immediately?\n"
   ]
  },
  {
   "cell_type": "code",
   "execution_count": 2,
   "id": "bab1aee6",
   "metadata": {},
   "outputs": [
    {
     "data": {
      "text/plain": [
       "0.11432369797104514"
      ]
     },
     "execution_count": 2,
     "metadata": {},
     "output_type": "execute_result"
    }
   ],
   "source": [
    "D50_meas_vol(541,105.3, 75.8)"
   ]
  },
  {
   "cell_type": "code",
   "execution_count": 25,
   "id": "0cd57203",
   "metadata": {},
   "outputs": [],
   "source": []
  },
  {
   "cell_type": "code",
   "execution_count": 26,
   "id": "0d5bb6bb",
   "metadata": {},
   "outputs": [
    {
     "ename": "NameError",
     "evalue": "name 'Qc' is not defined",
     "output_type": "error",
     "traceback": [
      "\u001b[0;31m---------------------------------------------------------------------------\u001b[0m",
      "\u001b[0;31mNameError\u001b[0m                                 Traceback (most recent call last)",
      "Cell \u001b[0;32mIn[26], line 1\u001b[0m\n\u001b[0;32m----> 1\u001b[0m calc_total_cyclone_volume(\u001b[43mQc\u001b[49m, S, F, P)\n",
      "\u001b[0;31mNameError\u001b[0m: name 'Qc' is not defined"
     ]
    }
   ],
   "source": []
  },
  {
   "cell_type": "code",
   "execution_count": 24,
   "id": "da3bdf4a",
   "metadata": {},
   "outputs": [
    {
     "ename": "NameError",
     "evalue": "name 'FFSP' is not defined",
     "output_type": "error",
     "traceback": [
      "\u001b[0;31m---------------------------------------------------------------------------\u001b[0m",
      "\u001b[0;31mNameError\u001b[0m                                 Traceback (most recent call last)",
      "Cell \u001b[0;32mIn[24], line 6\u001b[0m\n\u001b[1;32m      4\u001b[0m CL \u001b[38;5;241m=\u001b[39m \u001b[38;5;241m400\u001b[39m\n\u001b[1;32m      5\u001b[0m CFSP \u001b[38;5;241m=\u001b[39m \u001b[38;5;241m0.6\u001b[39m\n\u001b[0;32m----> 6\u001b[0m B \u001b[38;5;241m=\u001b[39m ((CL\u001b[38;5;241m*\u001b[39m(\u001b[38;5;241m1\u001b[39m\u001b[38;5;241m+\u001b[39mCFSP))\u001b[38;5;241m/\u001b[39m\u001b[43mFFSP\u001b[49m\u001b[38;5;241m-\u001b[39m(CL\u001b[38;5;241m*\u001b[39m(\u001b[38;5;241m1\u001b[39m\u001b[38;5;241m+\u001b[39mCFSP))\u001b[38;5;241m+\u001b[39m(CL\u001b[38;5;241m*\u001b[39m(\u001b[38;5;241m1\u001b[39m\u001b[38;5;241m+\u001b[39mCFSP))\u001b[38;5;241m/\u001b[39mFFDP)\n\u001b[1;32m      7\u001b[0m P \u001b[38;5;241m=\u001b[39m \u001b[38;5;241m75.8\u001b[39m\n\u001b[1;32m      8\u001b[0m RHO \u001b[38;5;241m=\u001b[39m \u001b[38;5;241m1.61\u001b[39m\n",
      "\u001b[0;31mNameError\u001b[0m: name 'FFSP' is not defined"
     ]
    }
   ],
   "source": []
  },
  {
   "cell_type": "code",
   "execution_count": null,
   "id": "0d285b01",
   "metadata": {},
   "outputs": [],
   "source": []
  }
 ],
 "metadata": {
  "kernelspec": {
   "display_name": "Python 3",
   "language": "python",
   "name": "python3"
  },
  "language_info": {
   "codemirror_mode": {
    "name": "ipython",
    "version": 3
   },
   "file_extension": ".py",
   "mimetype": "text/x-python",
   "name": "python",
   "nbconvert_exporter": "python",
   "pygments_lexer": "ipython3",
   "version": "3.9.15"
  }
 },
 "nbformat": 4,
 "nbformat_minor": 5
}
