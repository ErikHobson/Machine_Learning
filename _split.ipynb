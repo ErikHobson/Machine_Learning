{
 "cells": [
  {
   "cell_type": "code",
   "execution_count": 1,
   "id": "042f3efa",
   "metadata": {},
   "outputs": [],
   "source": [
    "# Train Test Split"
   ]
  },
  {
   "cell_type": "code",
   "execution_count": null,
   "id": "5bb31b6b",
   "metadata": {},
   "outputs": [],
   "source": [
    "from sklearn.model_selection import train_test_split\n",
    "from sklearn.preprocessing import StandardScaler\n",
    "import pandas as pd\n",
    "\n",
    "data = df.copy()\n",
    "# Split into train and test subsets (30% for test)\n",
    "\n",
    "train, test = train_test_split(data, test_size=0.3, shuffle=False)\n",
    "\n",
    "\n",
    "s = StandardScaler()\n",
    "dfs=df.copy()\n",
    "s_train = s.fit_transform(train)  #whole dataframe ppossilbe\n",
    "\n",
    "\n",
    "print('a: ', s.scale_)\n",
    "print('Scaler mean')\n",
    "print('b: ', s.mean_)\n",
    "\n",
    "\n",
    "s_test = s.fit_transform(test)\n",
    "\n",
    "\n",
    "# convert scaled values back to dataframe  \n",
    "#This is a scaled training and test dataset\n",
    "\n",
    "s_train_df = pd.DataFrame(s_train, columns=train.columns.values,index=train.index) #train index if partial\n",
    "s_test_df = pd.DataFrame(s_test, columns=test.columns.values,index=test.index)\n",
    "\n",
    "\n",
    "\n",
    "\n",
    "#Standard scaler\n",
    "s_train_df.plot(kind='kde',subplots=True,layout=(6,2),figsize=(10,6))\n",
    "plt.show()\n"
   ]
  }
 ],
 "metadata": {
  "kernelspec": {
   "display_name": "Python 3",
   "language": "python",
   "name": "python3"
  },
  "language_info": {
   "codemirror_mode": {
    "name": "ipython",
    "version": 3
   },
   "file_extension": ".py",
   "mimetype": "text/x-python",
   "name": "python",
   "nbconvert_exporter": "python",
   "pygments_lexer": "ipython3",
   "version": "3.9.15"
  }
 },
 "nbformat": 4,
 "nbformat_minor": 5
}
