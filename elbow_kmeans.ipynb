{
 "cells": [
  {
   "cell_type": "code",
   "execution_count": 1,
   "id": "dba584e2",
   "metadata": {},
   "outputs": [],
   "source": [
    "import pandas as pd\n",
    "import numpy as np\n",
    "import matplotlib.pyplot as plt\n",
    "from sklearn.cluster import KMeans"
   ]
  },
  {
   "cell_type": "code",
   "execution_count": null,
   "id": "601972b7",
   "metadata": {},
   "outputs": [],
   "source": []
  },
  {
   "cell_type": "code",
   "execution_count": 2,
   "id": "214225a5",
   "metadata": {},
   "outputs": [
    {
     "data": {
      "text/html": [
       "<div>\n",
       "<style scoped>\n",
       "    .dataframe tbody tr th:only-of-type {\n",
       "        vertical-align: middle;\n",
       "    }\n",
       "\n",
       "    .dataframe tbody tr th {\n",
       "        vertical-align: top;\n",
       "    }\n",
       "\n",
       "    .dataframe thead th {\n",
       "        text-align: right;\n",
       "    }\n",
       "</style>\n",
       "<table border=\"1\" class=\"dataframe\">\n",
       "  <thead>\n",
       "    <tr style=\"text-align: right;\">\n",
       "      <th></th>\n",
       "      <th>F</th>\n",
       "      <th>WR</th>\n",
       "      <th>IW</th>\n",
       "      <th>S</th>\n",
       "      <th>SW</th>\n",
       "      <th>NC</th>\n",
       "      <th>CL</th>\n",
       "      <th>CS</th>\n",
       "      <th>CW</th>\n",
       "      <th>P</th>\n",
       "      <th>L</th>\n",
       "      <th>SL</th>\n",
       "      <th>CP</th>\n",
       "      <th>D</th>\n",
       "      <th>G</th>\n",
       "      <th>RW</th>\n",
       "    </tr>\n",
       "  </thead>\n",
       "  <tbody>\n",
       "    <tr>\n",
       "      <th>0</th>\n",
       "      <td>1173.604614</td>\n",
       "      <td>0.553398</td>\n",
       "      <td>649.470337</td>\n",
       "      <td>11.685639</td>\n",
       "      <td>453.633514</td>\n",
       "      <td>6</td>\n",
       "      <td>5562.720093</td>\n",
       "      <td>3646.563965</td>\n",
       "      <td>1916.156128</td>\n",
       "      <td>14.641541</td>\n",
       "      <td>865.205017</td>\n",
       "      <td>73.201401</td>\n",
       "      <td>105.644363</td>\n",
       "      <td>1.820436</td>\n",
       "      <td>38.720238</td>\n",
       "      <td>813.052277</td>\n",
       "    </tr>\n",
       "    <tr>\n",
       "      <th>1</th>\n",
       "      <td>1184.025391</td>\n",
       "      <td>0.549372</td>\n",
       "      <td>650.470398</td>\n",
       "      <td>11.691677</td>\n",
       "      <td>451.826782</td>\n",
       "      <td>6</td>\n",
       "      <td>5510.069092</td>\n",
       "      <td>3599.213623</td>\n",
       "      <td>1910.855469</td>\n",
       "      <td>14.375170</td>\n",
       "      <td>864.574951</td>\n",
       "      <td>72.662819</td>\n",
       "      <td>104.705254</td>\n",
       "      <td>1.815144</td>\n",
       "      <td>39.273087</td>\n",
       "      <td>808.558289</td>\n",
       "    </tr>\n",
       "    <tr>\n",
       "      <th>2</th>\n",
       "      <td>1179.432861</td>\n",
       "      <td>0.551101</td>\n",
       "      <td>649.986572</td>\n",
       "      <td>11.605185</td>\n",
       "      <td>453.705536</td>\n",
       "      <td>6</td>\n",
       "      <td>5566.775879</td>\n",
       "      <td>3650.628174</td>\n",
       "      <td>1916.147705</td>\n",
       "      <td>14.858528</td>\n",
       "      <td>863.986633</td>\n",
       "      <td>72.053719</td>\n",
       "      <td>104.928497</td>\n",
       "      <td>1.821011</td>\n",
       "      <td>39.082325</td>\n",
       "      <td>812.455597</td>\n",
       "    </tr>\n",
       "    <tr>\n",
       "      <th>3</th>\n",
       "      <td>1180.020752</td>\n",
       "      <td>0.552393</td>\n",
       "      <td>651.835632</td>\n",
       "      <td>11.622761</td>\n",
       "      <td>457.800079</td>\n",
       "      <td>6</td>\n",
       "      <td>5575.503540</td>\n",
       "      <td>3656.185547</td>\n",
       "      <td>1919.317993</td>\n",
       "      <td>14.382598</td>\n",
       "      <td>865.155945</td>\n",
       "      <td>71.428963</td>\n",
       "      <td>104.588455</td>\n",
       "      <td>1.820944</td>\n",
       "      <td>38.968655</td>\n",
       "      <td>809.682281</td>\n",
       "    </tr>\n",
       "    <tr>\n",
       "      <th>4</th>\n",
       "      <td>1179.614868</td>\n",
       "      <td>0.551151</td>\n",
       "      <td>650.145691</td>\n",
       "      <td>11.702761</td>\n",
       "      <td>458.671082</td>\n",
       "      <td>6</td>\n",
       "      <td>5642.825684</td>\n",
       "      <td>3711.946045</td>\n",
       "      <td>1930.879639</td>\n",
       "      <td>14.582744</td>\n",
       "      <td>865.761963</td>\n",
       "      <td>71.015007</td>\n",
       "      <td>105.445717</td>\n",
       "      <td>1.825647</td>\n",
       "      <td>39.291306</td>\n",
       "      <td>822.062867</td>\n",
       "    </tr>\n",
       "  </tbody>\n",
       "</table>\n",
       "</div>"
      ],
      "text/plain": [
       "             F        WR          IW          S          SW  NC           CL   \n",
       "0  1173.604614  0.553398  649.470337  11.685639  453.633514   6  5562.720093  \\\n",
       "1  1184.025391  0.549372  650.470398  11.691677  451.826782   6  5510.069092   \n",
       "2  1179.432861  0.551101  649.986572  11.605185  453.705536   6  5566.775879   \n",
       "3  1180.020752  0.552393  651.835632  11.622761  457.800079   6  5575.503540   \n",
       "4  1179.614868  0.551151  650.145691  11.702761  458.671082   6  5642.825684   \n",
       "\n",
       "            CS           CW          P           L         SL          CP   \n",
       "0  3646.563965  1916.156128  14.641541  865.205017  73.201401  105.644363  \\\n",
       "1  3599.213623  1910.855469  14.375170  864.574951  72.662819  104.705254   \n",
       "2  3650.628174  1916.147705  14.858528  863.986633  72.053719  104.928497   \n",
       "3  3656.185547  1919.317993  14.382598  865.155945  71.428963  104.588455   \n",
       "4  3711.946045  1930.879639  14.582744  865.761963  71.015007  105.445717   \n",
       "\n",
       "          D          G          RW  \n",
       "0  1.820436  38.720238  813.052277  \n",
       "1  1.815144  39.273087  808.558289  \n",
       "2  1.821011  39.082325  812.455597  \n",
       "3  1.820944  38.968655  809.682281  \n",
       "4  1.825647  39.291306  822.062867  "
      ]
     },
     "execution_count": 2,
     "metadata": {},
     "output_type": "execute_result"
    }
   ],
   "source": [
    "df0 = pd.read_excel('data/data_mod.xlsx',)\n",
    "df0.drop(columns=['Unnamed: 0'], inplace=True)\n",
    "df0.head()\n",
    "#df0[['RW']] = df0[['CW']].to_numpy() - df0[['IW']].to_numpy() - df0[['SW']].to_numpy()"
   ]
  },
  {
   "cell_type": "code",
   "execution_count": 3,
   "id": "69b77816",
   "metadata": {},
   "outputs": [],
   "source": [
    "df = df0.copy()\n",
    "# df.drop(columns=['Date'], inplace=True)\n",
    "#print(df.min(),df.max())\n",
    "df = (df - df.min())/(df.max() - df.min())"
   ]
  },
  {
   "cell_type": "code",
   "execution_count": 4,
   "id": "462d09ce",
   "metadata": {},
   "outputs": [
    {
     "name": "stderr",
     "output_type": "stream",
     "text": [
      "/Users/aisimprowork/anaconda3/lib/python3.9/site-packages/sklearn/cluster/_kmeans.py:870: FutureWarning: The default value of `n_init` will change from 10 to 'auto' in 1.4. Set the value of `n_init` explicitly to suppress the warning\n",
      "  warnings.warn(\n",
      "/Users/aisimprowork/anaconda3/lib/python3.9/site-packages/sklearn/cluster/_kmeans.py:870: FutureWarning: The default value of `n_init` will change from 10 to 'auto' in 1.4. Set the value of `n_init` explicitly to suppress the warning\n",
      "  warnings.warn(\n",
      "/Users/aisimprowork/anaconda3/lib/python3.9/site-packages/sklearn/cluster/_kmeans.py:870: FutureWarning: The default value of `n_init` will change from 10 to 'auto' in 1.4. Set the value of `n_init` explicitly to suppress the warning\n",
      "  warnings.warn(\n",
      "/Users/aisimprowork/anaconda3/lib/python3.9/site-packages/sklearn/cluster/_kmeans.py:870: FutureWarning: The default value of `n_init` will change from 10 to 'auto' in 1.4. Set the value of `n_init` explicitly to suppress the warning\n",
      "  warnings.warn(\n",
      "/Users/aisimprowork/anaconda3/lib/python3.9/site-packages/sklearn/cluster/_kmeans.py:870: FutureWarning: The default value of `n_init` will change from 10 to 'auto' in 1.4. Set the value of `n_init` explicitly to suppress the warning\n",
      "  warnings.warn(\n",
      "/Users/aisimprowork/anaconda3/lib/python3.9/site-packages/sklearn/cluster/_kmeans.py:870: FutureWarning: The default value of `n_init` will change from 10 to 'auto' in 1.4. Set the value of `n_init` explicitly to suppress the warning\n",
      "  warnings.warn(\n",
      "/Users/aisimprowork/anaconda3/lib/python3.9/site-packages/sklearn/cluster/_kmeans.py:870: FutureWarning: The default value of `n_init` will change from 10 to 'auto' in 1.4. Set the value of `n_init` explicitly to suppress the warning\n",
      "  warnings.warn(\n",
      "/Users/aisimprowork/anaconda3/lib/python3.9/site-packages/sklearn/cluster/_kmeans.py:870: FutureWarning: The default value of `n_init` will change from 10 to 'auto' in 1.4. Set the value of `n_init` explicitly to suppress the warning\n",
      "  warnings.warn(\n",
      "/Users/aisimprowork/anaconda3/lib/python3.9/site-packages/sklearn/cluster/_kmeans.py:870: FutureWarning: The default value of `n_init` will change from 10 to 'auto' in 1.4. Set the value of `n_init` explicitly to suppress the warning\n",
      "  warnings.warn(\n"
     ]
    }
   ],
   "source": [
    "distortions = []\n",
    "K = range(1,10)\n",
    "for k in K:\n",
    "    kmeanModel = KMeans(n_clusters=k)\n",
    "    kmeanModel.fit(df.T)\n",
    "    distortions.append(kmeanModel.inertia_)"
   ]
  },
  {
   "cell_type": "code",
   "execution_count": 5,
   "id": "b789633d",
   "metadata": {},
   "outputs": [
    {
     "data": {
      "text/plain": [
       "[<matplotlib.lines.Line2D at 0x7fcb34ca0250>]"
      ]
     },
     "execution_count": 5,
     "metadata": {},
     "output_type": "execute_result"
    }
   ],
   "source": [
    "plt.plot(K, distortions, '-bo')"
   ]
  },
  {
   "cell_type": "code",
   "execution_count": 6,
   "id": "a94b2d2c",
   "metadata": {},
   "outputs": [
    {
     "name": "stderr",
     "output_type": "stream",
     "text": [
      "/Users/aisimprowork/anaconda3/lib/python3.9/site-packages/sklearn/cluster/_kmeans.py:870: FutureWarning: The default value of `n_init` will change from 10 to 'auto' in 1.4. Set the value of `n_init` explicitly to suppress the warning\n",
      "  warnings.warn(\n"
     ]
    },
    {
     "data": {
      "text/html": [
       "<style>#sk-container-id-1 {color: black;background-color: white;}#sk-container-id-1 pre{padding: 0;}#sk-container-id-1 div.sk-toggleable {background-color: white;}#sk-container-id-1 label.sk-toggleable__label {cursor: pointer;display: block;width: 100%;margin-bottom: 0;padding: 0.3em;box-sizing: border-box;text-align: center;}#sk-container-id-1 label.sk-toggleable__label-arrow:before {content: \"▸\";float: left;margin-right: 0.25em;color: #696969;}#sk-container-id-1 label.sk-toggleable__label-arrow:hover:before {color: black;}#sk-container-id-1 div.sk-estimator:hover label.sk-toggleable__label-arrow:before {color: black;}#sk-container-id-1 div.sk-toggleable__content {max-height: 0;max-width: 0;overflow: hidden;text-align: left;background-color: #f0f8ff;}#sk-container-id-1 div.sk-toggleable__content pre {margin: 0.2em;color: black;border-radius: 0.25em;background-color: #f0f8ff;}#sk-container-id-1 input.sk-toggleable__control:checked~div.sk-toggleable__content {max-height: 200px;max-width: 100%;overflow: auto;}#sk-container-id-1 input.sk-toggleable__control:checked~label.sk-toggleable__label-arrow:before {content: \"▾\";}#sk-container-id-1 div.sk-estimator input.sk-toggleable__control:checked~label.sk-toggleable__label {background-color: #d4ebff;}#sk-container-id-1 div.sk-label input.sk-toggleable__control:checked~label.sk-toggleable__label {background-color: #d4ebff;}#sk-container-id-1 input.sk-hidden--visually {border: 0;clip: rect(1px 1px 1px 1px);clip: rect(1px, 1px, 1px, 1px);height: 1px;margin: -1px;overflow: hidden;padding: 0;position: absolute;width: 1px;}#sk-container-id-1 div.sk-estimator {font-family: monospace;background-color: #f0f8ff;border: 1px dotted black;border-radius: 0.25em;box-sizing: border-box;margin-bottom: 0.5em;}#sk-container-id-1 div.sk-estimator:hover {background-color: #d4ebff;}#sk-container-id-1 div.sk-parallel-item::after {content: \"\";width: 100%;border-bottom: 1px solid gray;flex-grow: 1;}#sk-container-id-1 div.sk-label:hover label.sk-toggleable__label {background-color: #d4ebff;}#sk-container-id-1 div.sk-serial::before {content: \"\";position: absolute;border-left: 1px solid gray;box-sizing: border-box;top: 0;bottom: 0;left: 50%;z-index: 0;}#sk-container-id-1 div.sk-serial {display: flex;flex-direction: column;align-items: center;background-color: white;padding-right: 0.2em;padding-left: 0.2em;position: relative;}#sk-container-id-1 div.sk-item {position: relative;z-index: 1;}#sk-container-id-1 div.sk-parallel {display: flex;align-items: stretch;justify-content: center;background-color: white;position: relative;}#sk-container-id-1 div.sk-item::before, #sk-container-id-1 div.sk-parallel-item::before {content: \"\";position: absolute;border-left: 1px solid gray;box-sizing: border-box;top: 0;bottom: 0;left: 50%;z-index: -1;}#sk-container-id-1 div.sk-parallel-item {display: flex;flex-direction: column;z-index: 1;position: relative;background-color: white;}#sk-container-id-1 div.sk-parallel-item:first-child::after {align-self: flex-end;width: 50%;}#sk-container-id-1 div.sk-parallel-item:last-child::after {align-self: flex-start;width: 50%;}#sk-container-id-1 div.sk-parallel-item:only-child::after {width: 0;}#sk-container-id-1 div.sk-dashed-wrapped {border: 1px dashed gray;margin: 0 0.4em 0.5em 0.4em;box-sizing: border-box;padding-bottom: 0.4em;background-color: white;}#sk-container-id-1 div.sk-label label {font-family: monospace;font-weight: bold;display: inline-block;line-height: 1.2em;}#sk-container-id-1 div.sk-label-container {text-align: center;}#sk-container-id-1 div.sk-container {/* jupyter's `normalize.less` sets `[hidden] { display: none; }` but bootstrap.min.css set `[hidden] { display: none !important; }` so we also need the `!important` here to be able to override the default hidden behavior on the sphinx rendered scikit-learn.org. See: https://github.com/scikit-learn/scikit-learn/issues/21755 */display: inline-block !important;position: relative;}#sk-container-id-1 div.sk-text-repr-fallback {display: none;}</style><div id=\"sk-container-id-1\" class=\"sk-top-container\"><div class=\"sk-text-repr-fallback\"><pre>KMeans(n_clusters=3)</pre><b>In a Jupyter environment, please rerun this cell to show the HTML representation or trust the notebook. <br />On GitHub, the HTML representation is unable to render, please try loading this page with nbviewer.org.</b></div><div class=\"sk-container\" hidden><div class=\"sk-item\"><div class=\"sk-estimator sk-toggleable\"><input class=\"sk-toggleable__control sk-hidden--visually\" id=\"sk-estimator-id-1\" type=\"checkbox\" checked><label for=\"sk-estimator-id-1\" class=\"sk-toggleable__label sk-toggleable__label-arrow\">KMeans</label><div class=\"sk-toggleable__content\"><pre>KMeans(n_clusters=3)</pre></div></div></div></div></div>"
      ],
      "text/plain": [
       "KMeans(n_clusters=3)"
      ]
     },
     "execution_count": 6,
     "metadata": {},
     "output_type": "execute_result"
    }
   ],
   "source": [
    "kmeanModel = KMeans(n_clusters=3)\n",
    "kmeanModel.fit(df.T)"
   ]
  },
  {
   "cell_type": "code",
   "execution_count": 7,
   "id": "b1d80188",
   "metadata": {},
   "outputs": [],
   "source": [
    "kmeans_results = kmeanModel.predict(df.T)"
   ]
  },
  {
   "cell_type": "code",
   "execution_count": 9,
   "id": "624ccbda",
   "metadata": {},
   "outputs": [],
   "source": [
    "df.T['kmeans'] = kmeans_results"
   ]
  },
  {
   "cell_type": "code",
   "execution_count": 10,
   "id": "40ad7e75",
   "metadata": {},
   "outputs": [
    {
     "data": {
      "image/png": "[encoded data removed]",
      "text/plain": [
       "<Figure size 432x288 with 1 Axes>"
      ]
     },
     "metadata": {
      "needs_background": "light"
     },
     "output_type": "display_data"
    }
   ],
   "source": [
    "from sklearn.preprocessing import StandardScaler\n",
    "from sklearn.cluster import KMeans\n",
    "from sklearn.decomposition import KernelPCA, PCA\n",
    "\n",
    "\n",
    "data = df.head(500)\n",
    "df_segmention = data.transpose()\n",
    "# segmentation_std = df_segmention\n",
    "# Preprocessing\n",
    "scaler = StandardScaler()\n",
    "segmentation_std = scaler.fit_transform(df_segmention)\n",
    "# print(segmentation_std)\n",
    "\n",
    "# Kernel PCA\n",
    "# Init ( n_components = 5 )\n",
    "pca = PCA()\n",
    "pca.fit(segmentation_std)\n",
    "plt.plot(pca.explained_variance_ratio_.cumsum(), marker='o')\n",
    "plt.show()\n",
    "pca = KernelPCA(n_components=5, random_state=0, kernel='linear')\n",
    "pca.fit(segmentation_std)\n",
    "scores_pca = pca.transform(segmentation_std)\n"
   ]
  },
  {
   "cell_type": "code",
   "execution_count": 11,
   "id": "d9845826",
   "metadata": {},
   "outputs": [
    {
     "data": {
      "image/png": "[encoded data removed]",
      "text/plain": [
       "<Figure size 432x288 with 1 Axes>"
      ]
     },
     "metadata": {
      "needs_background": "light"
     },
     "output_type": "display_data"
    },
    {
     "data": {
      "image/png": "[encoded data removed]",
      "text/plain": [
       "<Figure size 720x720 with 1 Axes>"
      ]
     },
     "metadata": {
      "needs_background": "light"
     },
     "output_type": "display_data"
    }
   ],
   "source": [
    "\n",
    "# KMeans\n",
    "# Init ( n_components = 4 )\n",
    "wcss = []\n",
    "for i in range(1, 10):\n",
    "    kmeans_pca = KMeans(n_clusters=i, random_state=0).fit(scores_pca)\n",
    "    wcss.append(kmeans_pca.inertia_)\n",
    "plt.plot(range(1, 10), wcss, marker='o', linestyle='--')\n",
    "plt.show()\n",
    "nc = 3\n",
    "kmeans_pca = KMeans(n_clusters=nc, random_state=0)\n",
    "kmeans_pca.fit(scores_pca)\n",
    "\n",
    "# Results\n",
    "df_segm_pca_kmeans = pd.DataFrame(scores_pca, index=df_segmention.index)\n",
    "\n",
    "# df_segm_pca_kmeans.columns.values[-3:]\n",
    "df_segm_pca_kmeans['Segment K-means PCA'] = kmeans_pca.labels_\n",
    "df_n = {}\n",
    "plt.figure(figsize=(10,10))\n",
    "for k in range(nc):\n",
    "    df_n[k+1] = df_segm_pca_kmeans[df_segm_pca_kmeans['Segment K-means PCA'] == k]\n",
    "    plt.scatter(df_n[k+1][0], df_n[k+1][1], s=300)\n",
    "for k, col in enumerate(df_segm_pca_kmeans.index):\n",
    "    plt.annotate(col, (df_segm_pca_kmeans.loc[col][0], df_segm_pca_kmeans.loc[col][1]), size=13)\n",
    "plt.title('K-means clustering on the PCA-reduced data')\n",
    "plt.show()"
   ]
  }
 ],
 "metadata": {
  "kernelspec": {
   "display_name": "Python 3",
   "language": "python",
   "name": "python3"
  },
  "language_info": {
   "codemirror_mode": {
    "name": "ipython",
    "version": 3
   },
   "file_extension": ".py",
   "mimetype": "text/x-python",
   "name": "python",
   "nbconvert_exporter": "python",
   "pygments_lexer": "ipython3",
   "version": "3.9.15"
  }
 },
 "nbformat": 4,
 "nbformat_minor": 5
}
